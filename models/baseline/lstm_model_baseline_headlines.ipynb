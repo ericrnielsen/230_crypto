{
 "cells": [
  {
   "cell_type": "code",
   "execution_count": 4,
   "metadata": {},
   "outputs": [
    {
     "name": "stdout",
     "output_type": "stream",
     "text": [
      "There are 3758 headlines\n"
     ]
    },
    {
     "data": {
      "text/html": [
       "<div>\n",
       "<style scoped>\n",
       "    .dataframe tbody tr th:only-of-type {\n",
       "        vertical-align: middle;\n",
       "    }\n",
       "\n",
       "    .dataframe tbody tr th {\n",
       "        vertical-align: top;\n",
       "    }\n",
       "\n",
       "    .dataframe thead th {\n",
       "        text-align: right;\n",
       "    }\n",
       "</style>\n",
       "<table border=\"1\" class=\"dataframe\">\n",
       "  <thead>\n",
       "    <tr style=\"text-align: right;\">\n",
       "      <th></th>\n",
       "      <th>postdate</th>\n",
       "      <th>source</th>\n",
       "      <th>headline</th>\n",
       "      <th>btc_label</th>\n",
       "      <th>ltc_label</th>\n",
       "      <th>eth_label</th>\n",
       "    </tr>\n",
       "  </thead>\n",
       "  <tbody>\n",
       "    <tr>\n",
       "      <th>0</th>\n",
       "      <td>2017-01-01 13:50:25</td>\n",
       "      <td>coindesk.com</td>\n",
       "      <td>coindesk's charles bovaird asks the experts fo...</td>\n",
       "      <td>1</td>\n",
       "      <td>1</td>\n",
       "      <td>1</td>\n",
       "    </tr>\n",
       "    <tr>\n",
       "      <th>1</th>\n",
       "      <td>2017-01-01 15:33:53</td>\n",
       "      <td>coindesk.com</td>\n",
       "      <td>the blockchain industry is likely to see growt...</td>\n",
       "      <td>1</td>\n",
       "      <td>1</td>\n",
       "      <td>1</td>\n",
       "    </tr>\n",
       "    <tr>\n",
       "      <th>2</th>\n",
       "      <td>2017-01-01 21:04:02</td>\n",
       "      <td>coindesk.com</td>\n",
       "      <td>the price of bitcoin passed  1,000 during the ...</td>\n",
       "      <td>1</td>\n",
       "      <td>1</td>\n",
       "      <td>1</td>\n",
       "    </tr>\n",
       "    <tr>\n",
       "      <th>3</th>\n",
       "      <td>2017-01-02 12:07:00</td>\n",
       "      <td>coindesk.com</td>\n",
       "      <td>do 2016's political changes foreshadow blockch...</td>\n",
       "      <td>1</td>\n",
       "      <td>0</td>\n",
       "      <td>1</td>\n",
       "    </tr>\n",
       "    <tr>\n",
       "      <th>4</th>\n",
       "      <td>2017-01-02 14:43:09</td>\n",
       "      <td>coindesk.com</td>\n",
       "      <td>bitspark's george harrap lists his takeaways f...</td>\n",
       "      <td>1</td>\n",
       "      <td>0</td>\n",
       "      <td>1</td>\n",
       "    </tr>\n",
       "  </tbody>\n",
       "</table>\n",
       "</div>"
      ],
      "text/plain": [
       "              postdate        source  \\\n",
       "0  2017-01-01 13:50:25  coindesk.com   \n",
       "1  2017-01-01 15:33:53  coindesk.com   \n",
       "2  2017-01-01 21:04:02  coindesk.com   \n",
       "3  2017-01-02 12:07:00  coindesk.com   \n",
       "4  2017-01-02 14:43:09  coindesk.com   \n",
       "\n",
       "                                            headline  btc_label  ltc_label  \\\n",
       "0  coindesk's charles bovaird asks the experts fo...          1          1   \n",
       "1  the blockchain industry is likely to see growt...          1          1   \n",
       "2  the price of bitcoin passed  1,000 during the ...          1          1   \n",
       "3  do 2016's political changes foreshadow blockch...          1          0   \n",
       "4  bitspark's george harrap lists his takeaways f...          1          0   \n",
       "\n",
       "   eth_label  \n",
       "0          1  \n",
       "1          1  \n",
       "2          1  \n",
       "3          1  \n",
       "4          1  "
      ]
     },
     "execution_count": 4,
     "metadata": {},
     "output_type": "execute_result"
    }
   ],
   "source": [
    "import numpy as np\n",
    "import pandas as pd\n",
    "\n",
    "# Load in the csv data\n",
    "headlines_df = pd.read_csv(\"../../data/headlines/labeled/labeled_headlines.csv\", index_col=0, parse_dates=[0])\n",
    "\n",
    "print(\"There are {} headlines\".format(headlines_df.shape[0]))\n",
    "headlines_df.head()"
   ]
  },
  {
   "cell_type": "code",
   "execution_count": 4,
   "metadata": {
    "collapsed": true
   },
   "outputs": [],
   "source": [
    "def print_distribution(df, labels_column_name, data_set_name):\n",
    "    '''\n",
    "    :param df: DataFrame with data to print\n",
    "    :param labels_column_name: name of labels column in df\n",
    "    :param data_set_name: Data set printing stats of\n",
    "    :return: nothing\n",
    "    '''\n",
    "    n = df.shape[0]\n",
    "    print(\"{} Set Distributions:\\n\".format(data_set_name))\n",
    "    print(\"{} labels frequency:\".format(labels_column_name))\n",
    "    print(\"Value\\tCount\\tPercent\")\n",
    "    indeces = df[labels_column_name].value_counts().index.tolist()\n",
    "    counts = df[labels_column_name].value_counts().tolist()\n",
    "    for val, count in zip(indeces, counts):\n",
    "        print(\"{}\\t{}\\t{}%\".format(val, count, (count / float(n)) * 100))\n",
    "    print(\"\\n\")"
   ]
  },
  {
   "cell_type": "markdown",
   "metadata": {},
   "source": [
    "###  2) Figure out some stuff about our data\n",
    "    - What is the max number of words from all the headlines?\n",
    "        - Need to know this for when we vectorize the words, we need to pad the vectors to all be the same length"
   ]
  },
  {
   "cell_type": "code",
   "execution_count": 5,
   "metadata": {},
   "outputs": [
    {
     "name": "stdout",
     "output_type": "stream",
     "text": [
      "Max number of words per headline: 30\n"
     ]
    }
   ],
   "source": [
    "def get_max_words(text_arr):\n",
    "    max_words = 0\n",
    "    for line in text_arr:\n",
    "        num_words = len(line.split())\n",
    "        if num_words > max_words:\n",
    "            max_words = num_words\n",
    "    return max_words\n",
    "\n",
    "max_words = get_max_words(headlines_df.headline.values)\n",
    "print(\"Max number of words per headline: {}\".format(max_words))"
   ]
  },
  {
   "cell_type": "markdown",
   "metadata": {},
   "source": [
    "### 3) Split the data\n",
    "    - What are the distributions of each data set?"
   ]
  },
  {
   "cell_type": "code",
   "execution_count": 6,
   "metadata": {},
   "outputs": [
    {
     "name": "stdout",
     "output_type": "stream",
     "text": [
      "Splitting data...\n",
      "3006 train sequences\n",
      "752 test sequences\n",
      "----------------------------\n",
      "Full Set Distributions:\n",
      "\n",
      "btc_label labels frequency:\n",
      "Value\tCount\tPercent\n",
      "1\t2231\t59.366684406599255%\n",
      "0\t1527\t40.633315593400745%\n",
      "\n",
      "\n",
      "Train Set Distributions:\n",
      "\n",
      "btc_label labels frequency:\n",
      "Value\tCount\tPercent\n",
      "1\t1824\t60.67864271457086%\n",
      "0\t1182\t39.321357285429144%\n",
      "\n",
      "\n",
      "Test Set Distributions:\n",
      "\n",
      "btc_label labels frequency:\n",
      "Value\tCount\tPercent\n",
      "1\t407\t54.12234042553191%\n",
      "0\t345\t45.87765957446808%\n",
      "\n",
      "\n"
     ]
    }
   ],
   "source": [
    "# How many headlines to use for training -- Had to use 3006 to make sure to not split between a day\n",
    "LABEL_COL = 'btc_label'\n",
    "TEXT_COL = 'headline'\n",
    "train_size = 3006\n",
    "\n",
    "train_df = headlines_df[:train_size].copy()\n",
    "test_df = headlines_df[train_size:].copy()\n",
    "\n",
    "print('Splitting data...')\n",
    "(x_train, y_train) = train_df[TEXT_COL].values, train_df[LABEL_COL]\n",
    "(x_test, y_test) = test_df[TEXT_COL].values, test_df[LABEL_COL]\n",
    "print(len(x_train), 'train sequences')\n",
    "print(len(x_test), 'test sequences')\n",
    "print(\"----------------------------\")\n",
    "print_distribution(headlines_df, 'btc_label', 'Full')\n",
    "print_distribution(train_df, 'btc_label', 'Train')\n",
    "print_distribution(test_df, 'btc_label', 'Test')"
   ]
  },
  {
   "cell_type": "markdown",
   "metadata": {},
   "source": [
    "### 3) Build the initial model"
   ]
  },
  {
   "cell_type": "code",
   "execution_count": 9,
   "metadata": {
    "collapsed": true
   },
   "outputs": [],
   "source": [
    "from keras.preprocessing import sequence\n",
    "from keras.preprocessing.text import Tokenizer\n",
    "from keras.preprocessing.sequence import pad_sequences\n",
    "from keras.models import Model, Sequential\n",
    "from keras.layers import Dense, Embedding\n",
    "from keras.layers import LSTM, Input\n",
    "\n",
    "\n",
    "######### Hyperparameters\n",
    "max_features = 20000 # Controls the number of words in our vocabulary \n",
    "maxlen = max_words  # cut texts after this number of words (among top max_features most common words)\n",
    "batch_size = 32  # mini-batch size\n",
    "epochs = 6    \n"
   ]
  },
  {
   "cell_type": "markdown",
   "metadata": {},
   "source": [
    "#### Pre-process the data by using Keras Tokenizer \n",
    "    - similar to the sklearn CountVectorizer we used before, but more powerful\n",
    "    - https://keras.io/preprocessing/text/"
   ]
  },
  {
   "cell_type": "code",
   "execution_count": 8,
   "metadata": {},
   "outputs": [
    {
     "name": "stdout",
     "output_type": "stream",
     "text": [
      "Pad sequences (samples x time)\n",
      "x_train shape: (3006, 30)\n",
      "x_test shape: (752, 30)\n"
     ]
    }
   ],
   "source": [
    "# First train our Tokenizer to create a vocabulary of words\n",
    "tokenizer = Tokenizer(num_words=max_features)\n",
    "tokenizer.fit_on_texts(x_train)\n",
    "\n",
    "# Second vectorize each headline\n",
    "# Might want to train a different tokenizer on the test set?\n",
    "train_sequences = tokenizer.texts_to_sequences(x_train)\n",
    "test_sequences = tokenizer.texts_to_sequences(x_test)\n",
    "\n",
    "# For an RNN, ou need a 'sequence' of data as the input\n",
    "print('Pad sequences (samples x time)')\n",
    "x_train = sequence.pad_sequences(train_sequences, maxlen=maxlen)\n",
    "x_test = sequence.pad_sequences(test_sequences, maxlen=maxlen)\n",
    "print('x_train shape:', x_train.shape)\n",
    "print('x_test shape:', x_test.shape)"
   ]
  },
  {
   "cell_type": "markdown",
   "metadata": {},
   "source": [
    "### Build and train an RNN LSTM model with an Embedding layer input using the Keras Sequential API\n",
    " - Input = Embedding layer of size 128 (means it uses 128 features) Need to tune this probably\n",
    " - Hidden Layer = LSTM with 128 hidden units\n",
    " - Output = Sigmoid \n",
    " - See: https://github.com/keras-team/keras/blob/master/examples/imdb_lstm.py"
   ]
  },
  {
   "cell_type": "code",
   "execution_count": 20,
   "metadata": {},
   "outputs": [
    {
     "name": "stdout",
     "output_type": "stream",
     "text": [
      "Build model...\n",
      "_________________________________________________________________\n",
      "Layer (type)                 Output Shape              Param #   \n",
      "=================================================================\n",
      "embedding_10 (Embedding)     (None, None, 128)         2560000   \n",
      "_________________________________________________________________\n",
      "lstm_10 (LSTM)               (None, 128)               131584    \n",
      "_________________________________________________________________\n",
      "dense_6 (Dense)              (None, 1)                 129       \n",
      "=================================================================\n",
      "Total params: 2,691,713\n",
      "Trainable params: 2,691,713\n",
      "Non-trainable params: 0\n",
      "_________________________________________________________________\n",
      "Train...\n",
      "Train on 3006 samples, validate on 752 samples\n",
      "Epoch 1/6\n",
      "3006/3006 [==============================] - 19s - loss: 0.6734 - acc: 0.6058 - val_loss: 0.6916 - val_acc: 0.5412\n",
      "Epoch 2/6\n",
      "3006/3006 [==============================] - 19s - loss: 0.5900 - acc: 0.6720 - val_loss: 0.8609 - val_acc: 0.5293\n",
      "Epoch 3/6\n",
      "3006/3006 [==============================] - 21s - loss: 0.3317 - acc: 0.8629 - val_loss: 1.1674 - val_acc: 0.5226\n",
      "Epoch 4/6\n",
      "3006/3006 [==============================] - 17s - loss: 0.1423 - acc: 0.9518 - val_loss: 1.3200 - val_acc: 0.4987\n",
      "Epoch 5/6\n",
      "3006/3006 [==============================] - 16s - loss: 0.0526 - acc: 0.9827 - val_loss: 1.6693 - val_acc: 0.5066\n",
      "Epoch 6/6\n",
      "3006/3006 [==============================] - 17s - loss: 0.0260 - acc: 0.9927 - val_loss: 2.1407 - val_acc: 0.5133\n",
      "736/752 [============================>.] - ETA: 0sTest score: 2.14073915684\n",
      "Test accuracy: 0.51329787234\n"
     ]
    }
   ],
   "source": [
    "print('Build model...')\n",
    "model = Sequential()\n",
    "model.add(Embedding(max_features, 128))\n",
    "model.add(LSTM(128)) #, dropout=0.2, recurrent_dropout=0.2))\n",
    "model.add(Dense(1, activation='sigmoid'))\n",
    "\n",
    "model.compile(loss='binary_crossentropy',\n",
    "              optimizer='adam',\n",
    "              metrics=['accuracy'])\n",
    "\n",
    "model.summary()\n",
    "print('Train...')\n",
    "model.fit(x_train, \n",
    "          y_train,\n",
    "          batch_size=batch_size,\n",
    "          epochs=epochs,\n",
    "          validation_data=(x_test, y_test))\n",
    "\n",
    "score, acc = model.evaluate(x_test, \n",
    "                            y_test,\n",
    "                            batch_size=batch_size)\n",
    "\n",
    "print('Test score:', score)\n",
    "print('Test accuracy:', acc)"
   ]
  },
  {
   "cell_type": "markdown",
   "metadata": {},
   "source": [
    "### Create the same model using the Keras functional API\n",
    "    - The functional API will be more useful due to adaptability; i.e. you can have mutiple inputs/outputs from the NN, which you can't do with the sequential API"
   ]
  },
  {
   "cell_type": "code",
   "execution_count": 21,
   "metadata": {},
   "outputs": [
    {
     "name": "stdout",
     "output_type": "stream",
     "text": [
      "_________________________________________________________________\n",
      "Layer (type)                 Output Shape              Param #   \n",
      "=================================================================\n",
      "main_input (InputLayer)      (None, 30)                0         \n",
      "_________________________________________________________________\n",
      "embedding_11 (Embedding)     (None, 30, 128)           2560000   \n",
      "_________________________________________________________________\n",
      "lstm_11 (LSTM)               (None, 128)               131584    \n",
      "_________________________________________________________________\n",
      "dense_7 (Dense)              (None, 1)                 129       \n",
      "=================================================================\n",
      "Total params: 2,691,713\n",
      "Trainable params: 2,691,713\n",
      "Non-trainable params: 0\n",
      "_________________________________________________________________\n",
      "Train on 3006 samples, validate on 752 samples\n",
      "Epoch 1/6\n",
      "3006/3006 [==============================] - 21s - loss: 0.6758 - acc: 0.5995 - val_loss: 0.6929 - val_acc: 0.5412\n",
      "Epoch 2/6\n",
      "3006/3006 [==============================] - 18s - loss: 0.5936 - acc: 0.6763 - val_loss: 0.7597 - val_acc: 0.4920\n",
      "Epoch 3/6\n",
      "3006/3006 [==============================] - 16s - loss: 0.3291 - acc: 0.8623 - val_loss: 1.0578 - val_acc: 0.5253\n",
      "Epoch 4/6\n",
      "3006/3006 [==============================] - 16s - loss: 0.1440 - acc: 0.9494 - val_loss: 1.2836 - val_acc: 0.5239\n",
      "Epoch 5/6\n",
      "3006/3006 [==============================] - 16s - loss: 0.0505 - acc: 0.9860 - val_loss: 1.7461 - val_acc: 0.5306\n",
      "Epoch 6/6\n",
      "3006/3006 [==============================] - 16s - loss: 0.0176 - acc: 0.9973 - val_loss: 2.2448 - val_acc: 0.5519\n",
      "752/752 [==============================] - 0s     \n",
      "Test score: 2.24482708028\n",
      "Test accuracy: 0.551861702128\n"
     ]
    }
   ],
   "source": [
    "# Functional API version of the same model\n",
    "# The functional API is much more useful than the sequential API in terms of adaptability \n",
    "input_layer = Input(shape=(maxlen,), dtype='int32', name='main_input')\n",
    "\n",
    "embedding_layer = Embedding(output_dim=128, input_dim=max_features, input_length=maxlen)(input_layer)\n",
    "\n",
    "lstm_layer = LSTM(128)(embedding_layer)\n",
    "\n",
    "output = Dense(1, activation='sigmoid')(lstm_layer)\n",
    "\n",
    "model = Model(inputs=input_layer, \n",
    "              outputs=output)\n",
    "model.summary()\n",
    "\n",
    "model.compile(loss='binary_crossentropy', \n",
    "              optimizer='adam', \n",
    "              metrics=['accuracy'])\n",
    "model.fit(x_train, \n",
    "          y_train, \n",
    "          batch_size=batch_size, \n",
    "          epochs=epochs, \n",
    "          validation_data=(x_test, y_test))\n",
    "\n",
    "score, acc = model.evaluate(x_test, \n",
    "                            y_test,\n",
    "                            batch_size=batch_size)\n",
    "print('Test score:', score)\n",
    "print('Test accuracy:', acc)"
   ]
  },
  {
   "cell_type": "code",
   "execution_count": null,
   "metadata": {
    "collapsed": true
   },
   "outputs": [],
   "source": []
  }
 ],
 "metadata": {
  "kernelspec": {
   "display_name": "Python 3",
   "language": "python",
   "name": "python3"
  },
  "language_info": {
   "codemirror_mode": {
    "name": "ipython",
    "version": 3
   },
   "file_extension": ".py",
   "mimetype": "text/x-python",
   "name": "python",
   "nbconvert_exporter": "python",
   "pygments_lexer": "ipython3",
   "version": "3.6.0"
  }
 },
 "nbformat": 4,
 "nbformat_minor": 2
}
