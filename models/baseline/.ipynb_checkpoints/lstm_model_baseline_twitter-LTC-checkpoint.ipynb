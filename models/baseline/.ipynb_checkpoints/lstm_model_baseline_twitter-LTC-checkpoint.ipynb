{
 "cells": [
  {
   "cell_type": "code",
   "execution_count": 1,
   "metadata": {},
   "outputs": [
    {
     "name": "stdout",
     "output_type": "stream",
     "text": [
      "There are 48262 tweets\n"
     ]
    },
    {
     "data": {
      "text/html": [
       "<div>\n",
       "<style>\n",
       "    .dataframe thead tr:only-child th {\n",
       "        text-align: right;\n",
       "    }\n",
       "\n",
       "    .dataframe thead th {\n",
       "        text-align: left;\n",
       "    }\n",
       "\n",
       "    .dataframe tbody tr th {\n",
       "        vertical-align: top;\n",
       "    }\n",
       "</style>\n",
       "<table border=\"1\" class=\"dataframe\">\n",
       "  <thead>\n",
       "    <tr style=\"text-align: right;\">\n",
       "      <th></th>\n",
       "      <th>Date</th>\n",
       "      <th>Text</th>\n",
       "      <th>BTC_Label</th>\n",
       "      <th>ETH_Label</th>\n",
       "      <th>LTC_Label</th>\n",
       "    </tr>\n",
       "  </thead>\n",
       "  <tbody>\n",
       "    <tr>\n",
       "      <th>0</th>\n",
       "      <td>2017-01-01</td>\n",
       "      <td>Did anyone notice Bitcoin hit $1000 a few hour...</td>\n",
       "      <td>1</td>\n",
       "      <td>1</td>\n",
       "      <td>0</td>\n",
       "    </tr>\n",
       "    <tr>\n",
       "      <th>1</th>\n",
       "      <td>2017-01-01</td>\n",
       "      <td>Bitcoin Price Tops $1,000 in First Day of 2017...</td>\n",
       "      <td>1</td>\n",
       "      <td>1</td>\n",
       "      <td>0</td>\n",
       "    </tr>\n",
       "    <tr>\n",
       "      <th>2</th>\n",
       "      <td>2017-01-01</td>\n",
       "      <td>The latest Bitcoin Price Index is 997.75 USD h...</td>\n",
       "      <td>1</td>\n",
       "      <td>1</td>\n",
       "      <td>0</td>\n",
       "    </tr>\n",
       "    <tr>\n",
       "      <th>3</th>\n",
       "      <td>2017-01-01</td>\n",
       "      <td>Bitcoinã3å¹´ã¶ãã®1000ãã«ã«åãã£ã...</td>\n",
       "      <td>1</td>\n",
       "      <td>1</td>\n",
       "      <td>0</td>\n",
       "    </tr>\n",
       "    <tr>\n",
       "      <th>4</th>\n",
       "      <td>2017-01-01</td>\n",
       "      <td>#Bitcoin predictions from #WebBot @clif_high h...</td>\n",
       "      <td>1</td>\n",
       "      <td>1</td>\n",
       "      <td>0</td>\n",
       "    </tr>\n",
       "  </tbody>\n",
       "</table>\n",
       "</div>"
      ],
      "text/plain": [
       "         Date                                               Text  BTC_Label  \\\n",
       "0  2017-01-01  Did anyone notice Bitcoin hit $1000 a few hour...          1   \n",
       "1  2017-01-01  Bitcoin Price Tops $1,000 in First Day of 2017...          1   \n",
       "2  2017-01-01  The latest Bitcoin Price Index is 997.75 USD h...          1   \n",
       "3  2017-01-01  Bitcoinã3å¹´ã¶ãã®1000ãã«ã«åãã£ã...          1   \n",
       "4  2017-01-01  #Bitcoin predictions from #WebBot @clif_high h...          1   \n",
       "\n",
       "   ETH_Label  LTC_Label  \n",
       "0          1          0  \n",
       "1          1          0  \n",
       "2          1          0  \n",
       "3          1          0  \n",
       "4          1          0  "
      ]
     },
     "execution_count": 1,
     "metadata": {},
     "output_type": "execute_result"
    }
   ],
   "source": [
    "import numpy as np\n",
    "import pandas as pd\n",
    "\n",
    "# Load in the csv data\n",
    "#headlines_df = pd.read_csv(\"../../data/headlines/labeled/labeled_headlines.csv\", index_col=0, parse_dates=[0])\n",
    "tweets_df = pd.read_csv('..\\\\..\\\\data\\\\twitter\\\\labeled_tweets.csv', encoding='ISO-8859-1')\n",
    "#tweets_df = pd.read_csv('../../data/twitter/labeled_tweets.csv', encoding='ISO-8859-1')\n",
    "\n",
    "print(\"There are {} tweets\".format(tweets_df.shape[0]))\n",
    "tweets_df.head()"
   ]
  },
  {
   "cell_type": "code",
   "execution_count": 2,
   "metadata": {
    "collapsed": true
   },
   "outputs": [],
   "source": [
    "def print_distribution(df, labels_column_name, data_set_name):\n",
    "    '''\n",
    "    :param df: DataFrame with data to print\n",
    "    :param labels_column_name: name of labels column in df\n",
    "    :param data_set_name: Data set printing stats of\n",
    "    :return: nothing\n",
    "    '''\n",
    "    n = df.shape[0]\n",
    "    print(\"{} Set Distributions:\\n\".format(data_set_name))\n",
    "    print(\"{} labels frequency:\".format(labels_column_name))\n",
    "    print(\"Value\\tCount\\tPercent\")\n",
    "    indeces = df[labels_column_name].value_counts().index.tolist()\n",
    "    counts = df[labels_column_name].value_counts().tolist()\n",
    "    for val, count in zip(indeces, counts):\n",
    "        print(\"{}\\t{}\\t{}%\".format(val, count, (count / float(n)) * 100))\n",
    "    print(\"\\n\")"
   ]
  },
  {
   "cell_type": "markdown",
   "metadata": {},
   "source": [
    "###  2) Figure out some stuff about our data\n",
    "    - What is the max number of words from all the tweets?\n",
    "        - Need to know this for when we vectorize the words, we need to pad the vectors to all be the same length"
   ]
  },
  {
   "cell_type": "code",
   "execution_count": 3,
   "metadata": {},
   "outputs": [
    {
     "name": "stdout",
     "output_type": "stream",
     "text": [
      "Max number of words per tweet: 99\n"
     ]
    }
   ],
   "source": [
    "def get_max_words(text_arr):\n",
    "    max_words = 0\n",
    "    for line in text_arr:\n",
    "        num_words = len(str(line).split())\n",
    "        if num_words > max_words:\n",
    "            max_words = num_words\n",
    "    return max_words\n",
    "\n",
    "max_words = get_max_words(tweets_df.Text.values)\n",
    "print(\"Max number of words per tweet: {}\".format(max_words))"
   ]
  },
  {
   "cell_type": "markdown",
   "metadata": {},
   "source": [
    "### 3) Split the data\n",
    "    - What are the distributions of each data set?"
   ]
  },
  {
   "cell_type": "code",
   "execution_count": 4,
   "metadata": {},
   "outputs": [
    {
     "name": "stdout",
     "output_type": "stream",
     "text": [
      "Splitting data...\n",
      "38569 train sequences\n",
      "9693 test sequences\n",
      "----------------------------\n",
      "Full Set Distributions:\n",
      "\n",
      "LTC_Label labels frequency:\n",
      "Value\tCount\tPercent\n",
      "1\t24410\t50.57809456715429%\n",
      "0\t23852\t49.42190543284572%\n",
      "\n",
      "\n",
      "Train Set Distributions:\n",
      "\n",
      "LTC_Label labels frequency:\n",
      "Value\tCount\tPercent\n",
      "1\t19924\t51.65806735979673%\n",
      "0\t18645\t48.341932640203275%\n",
      "\n",
      "\n",
      "Test Set Distributions:\n",
      "\n",
      "LTC_Label labels frequency:\n",
      "Value\tCount\tPercent\n",
      "0\t5207\t53.71917878881667%\n",
      "1\t4486\t46.28082121118332%\n",
      "\n",
      "\n"
     ]
    }
   ],
   "source": [
    "# How many tweets to use for training -- Had to use 38569 to make sure to not split between a day\n",
    "LABEL_COL = 'LTC_Label'\n",
    "TEXT_COL = 'Text'\n",
    "train_size = 38569\n",
    "\n",
    "train_df = tweets_df[:train_size].copy()\n",
    "test_df = tweets_df[train_size:].copy()\n",
    "\n",
    "print('Splitting data...')\n",
    "(x_train, y_train) = train_df[TEXT_COL].values, train_df[LABEL_COL]\n",
    "(x_test, y_test) = test_df[TEXT_COL].values, test_df[LABEL_COL]\n",
    "print(len(x_train), 'train sequences')\n",
    "print(len(x_test), 'test sequences')\n",
    "print(\"----------------------------\")\n",
    "print_distribution(tweets_df, LABEL_COL, 'Full')\n",
    "print_distribution(train_df, LABEL_COL, 'Train')\n",
    "print_distribution(test_df, LABEL_COL, 'Test')"
   ]
  },
  {
   "cell_type": "markdown",
   "metadata": {},
   "source": [
    "### 3) Build the initial model"
   ]
  },
  {
   "cell_type": "code",
   "execution_count": 5,
   "metadata": {},
   "outputs": [
    {
     "name": "stderr",
     "output_type": "stream",
     "text": [
      "Using TensorFlow backend.\n"
     ]
    }
   ],
   "source": [
    "import keras\n",
    "from keras.preprocessing import sequence\n",
    "from keras.preprocessing.text import Tokenizer\n",
    "from keras.preprocessing.sequence import pad_sequences\n",
    "from keras.models import Model, Sequential\n",
    "from keras.layers import Dense, Embedding\n",
    "from keras.layers import LSTM, Input\n",
    "\n",
    "######### Hyperparameters\n",
    "max_features = 20000 # Controls the number of words in our vocabulary \n",
    "maxlen = max_words  # cut texts after this number of words (among top max_features most common words)\n",
    "batch_size = 32  # mini-batch size\n",
    "epochs = 6    \n"
   ]
  },
  {
   "cell_type": "markdown",
   "metadata": {},
   "source": [
    "#### Pre-process the data by using Keras Tokenizer \n",
    "    - similar to the sklearn CountVectorizer we used before, but more powerful\n",
    "    - https://keras.io/preprocessing/text/"
   ]
  },
  {
   "cell_type": "code",
   "execution_count": 6,
   "metadata": {},
   "outputs": [
    {
     "name": "stdout",
     "output_type": "stream",
     "text": [
      "Pad sequences (samples x time)\n",
      "x_train shape: (38569, 99)\n",
      "x_test shape: (9693, 99)\n"
     ]
    }
   ],
   "source": [
    "x_train = list(map(str, x_train))\n",
    "x_test = list(map(str, x_test))\n",
    "\n",
    "# First train our Tokenizer to create a vocabulary of words\n",
    "tokenizer = Tokenizer(num_words=max_features)\n",
    "tokenizer.fit_on_texts(x_train)\n",
    "\n",
    "# Second vectorize each headline\n",
    "# Might want to train a different tokenizer on the test set?\n",
    "train_sequences = tokenizer.texts_to_sequences(x_train)\n",
    "test_sequences = tokenizer.texts_to_sequences(x_test)\n",
    "\n",
    "# For an RNN, ou need a 'sequence' of data as the input\n",
    "print('Pad sequences (samples x time)')\n",
    "x_train = sequence.pad_sequences(train_sequences, maxlen=maxlen)\n",
    "x_test = sequence.pad_sequences(test_sequences, maxlen=maxlen)\n",
    "print('x_train shape:', x_train.shape)\n",
    "print('x_test shape:', x_test.shape)"
   ]
  },
  {
   "cell_type": "markdown",
   "metadata": {},
   "source": [
    "### Build and train an RNN LSTM model with an Embedding layer input using the Keras Sequential API\n",
    " - Input = Embedding layer of size 128 (means it uses 128 features) Need to tune this probably\n",
    " - Hidden Layer = LSTM with 128 hidden units\n",
    " - Output = Sigmoid \n",
    " - See: https://github.com/keras-team/keras/blob/master/examples/imdb_lstm.py"
   ]
  },
  {
   "cell_type": "code",
   "execution_count": 7,
   "metadata": {},
   "outputs": [
    {
     "name": "stdout",
     "output_type": "stream",
     "text": [
      "Build model...\n",
      "_________________________________________________________________\n",
      "Layer (type)                 Output Shape              Param #   \n",
      "=================================================================\n",
      "embedding_1 (Embedding)      (None, None, 128)         2560000   \n",
      "_________________________________________________________________\n",
      "lstm_1 (LSTM)                (None, 128)               131584    \n",
      "_________________________________________________________________\n",
      "dense_1 (Dense)              (None, 1)                 129       \n",
      "=================================================================\n",
      "Total params: 2,691,713\n",
      "Trainable params: 2,691,713\n",
      "Non-trainable params: 0\n",
      "_________________________________________________________________\n",
      "Train...\n",
      "Train on 38569 samples, validate on 9693 samples\n",
      "Epoch 1/6\n",
      "38569/38569 [==============================] - 506s 13ms/step - loss: 0.6910 - acc: 0.5271 - val_loss: 0.7026 - val_acc: 0.4791\n",
      "Epoch 2/6\n",
      "38569/38569 [==============================] - 487s 13ms/step - loss: 0.6216 - acc: 0.6489 - val_loss: 0.7601 - val_acc: 0.4954\n",
      "Epoch 3/6\n",
      "38569/38569 [==============================] - 487s 13ms/step - loss: 0.4890 - acc: 0.7474 - val_loss: 0.8898 - val_acc: 0.5020\n",
      "Epoch 4/6\n",
      "38569/38569 [==============================] - 490s 13ms/step - loss: 0.3727 - acc: 0.8123 - val_loss: 1.1264 - val_acc: 0.5179\n",
      "Epoch 5/6\n",
      "38569/38569 [==============================] - 434s 11ms/step - loss: 0.2918 - acc: 0.8535 - val_loss: 1.4438 - val_acc: 0.5038\n",
      "Epoch 6/6\n",
      "38569/38569 [==============================] - 266s 7ms/step - loss: 0.2367 - acc: 0.8776 - val_loss: 1.6137 - val_acc: 0.5019\n",
      "9693/9693 [==============================] - 12s 1ms/step\n",
      "Test score: 1.61374065076\n",
      "Test accuracy: 0.501908593812\n"
     ]
    }
   ],
   "source": [
    "print('Build model...')\n",
    "model = Sequential()\n",
    "model.add(Embedding(max_features, 128))\n",
    "model.add(LSTM(128)) #, dropout=0.2, recurrent_dropout=0.2))\n",
    "model.add(Dense(1, activation='sigmoid'))\n",
    "\n",
    "model.compile(loss='binary_crossentropy',\n",
    "              optimizer='adam',\n",
    "              metrics=['accuracy'])\n",
    "\n",
    "model.summary()\n",
    "print('Train...')\n",
    "model.fit(x_train, \n",
    "          y_train,\n",
    "          batch_size=batch_size,\n",
    "          epochs=epochs,\n",
    "          validation_data=(x_test, y_test))\n",
    "\n",
    "score, acc = model.evaluate(x_test, \n",
    "                            y_test,\n",
    "                            batch_size=batch_size)\n",
    "\n",
    "print('Test score:', score)\n",
    "print('Test accuracy:', acc)"
   ]
  },
  {
   "cell_type": "markdown",
   "metadata": {},
   "source": [
    "### Create the same model using the Keras functional API\n",
    "    - The functional API will be more useful due to adaptability; i.e. you can have mutiple inputs/outputs from the NN, which you can't do with the sequential API"
   ]
  },
  {
   "cell_type": "code",
   "execution_count": null,
   "metadata": {
    "collapsed": true
   },
   "outputs": [],
   "source": [
    "# Functional API version of the same model\n",
    "# The functional API is much more useful than the sequential API in terms of adaptability \n",
    "input_layer = Input(shape=(maxlen,), dtype='int32', name='main_input')\n",
    "\n",
    "embedding_layer = Embedding(output_dim=128, input_dim=max_features, input_length=maxlen)(input_layer)\n",
    "\n",
    "lstm_layer = LSTM(128)(embedding_layer)\n",
    "\n",
    "output = Dense(1, activation='sigmoid')(lstm_layer)\n",
    "\n",
    "model = Model(inputs=input_layer, \n",
    "              outputs=output)\n",
    "model.summary()\n",
    "\n",
    "model.compile(loss='binary_crossentropy', \n",
    "              optimizer='adam', \n",
    "              metrics=['accuracy'])\n",
    "model.fit(x_train, \n",
    "          y_train, \n",
    "          batch_size=batch_size, \n",
    "          epochs=epochs, \n",
    "          validation_data=(x_test, y_test))\n",
    "\n",
    "score, acc = model.evaluate(x_test, \n",
    "                            y_test,\n",
    "                            batch_size=batch_size)\n",
    "print('Test score:', score)\n",
    "print('Test accuracy:', acc)"
   ]
  }
 ],
 "metadata": {
  "kernelspec": {
   "display_name": "Python 3",
   "language": "python",
   "name": "python3"
  },
  "language_info": {
   "codemirror_mode": {
    "name": "ipython",
    "version": 3
   },
   "file_extension": ".py",
   "mimetype": "text/x-python",
   "name": "python",
   "nbconvert_exporter": "python",
   "pygments_lexer": "ipython3",
   "version": "3.6.2"
  }
 },
 "nbformat": 4,
 "nbformat_minor": 2
}
