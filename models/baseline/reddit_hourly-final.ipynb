{
 "cells": [
  {
   "cell_type": "markdown",
   "metadata": {},
   "source": [
    "# Imports"
   ]
  },
  {
   "cell_type": "code",
   "execution_count": 1,
   "metadata": {},
   "outputs": [
    {
     "name": "stderr",
     "output_type": "stream",
     "text": [
      "/usr/local/lib/python3.6/site-packages/h5py/__init__.py:36: FutureWarning: Conversion of the second argument of issubdtype from `float` to `np.floating` is deprecated. In future, it will be treated as `np.float64 == np.dtype(float).type`.\n",
      "  from ._conv import register_converters as _register_converters\n",
      "Using TensorFlow backend.\n"
     ]
    }
   ],
   "source": [
    "import numpy as np\n",
    "import pandas as pd\n",
    "from gensim.models import KeyedVectors\n",
    "from keras.preprocessing import sequence\n",
    "from keras.preprocessing.text import Tokenizer\n",
    "from keras.preprocessing.sequence import pad_sequences\n",
    "from keras.models import Model, Sequential\n",
    "from keras.layers import Dense, Embedding, Input, LSTM, Dropout\n",
    "from keras.layers import LSTM, Input, Bidirectional\n",
    "from keras.callbacks import ModelCheckpoint\n",
    "import h5py\n",
    "\n",
    "import matplotlib\n",
    "import matplotlib.pyplot as plt\n",
    "import seaborn as sns\n",
    "matplotlib.rcParams['figure.figsize'] = (18,10)"
   ]
  },
  {
   "cell_type": "markdown",
   "metadata": {},
   "source": [
    "# Supporting Functions"
   ]
  },
  {
   "cell_type": "code",
   "execution_count": 2,
   "metadata": {},
   "outputs": [],
   "source": [
    "def print_distribution(df, labels_column_name):\n",
    "    n = df.shape[0]\n",
    "    print(\"{} labels frequency:\".format(labels_column_name))\n",
    "    print(\"Value\\tCount\\tPercent\")\n",
    "    indeces = df[labels_column_name].value_counts().index.tolist()\n",
    "    counts = df[labels_column_name].value_counts().tolist()\n",
    "    for val, count in zip(indeces, counts):\n",
    "        print(\"{}\\t{}\\t{}%\".format(val, count, (count / float(n)) * 100))\n",
    "    \n",
    "def get_max_words(text_arr):\n",
    "    max_words = 0\n",
    "    for line in text_arr:\n",
    "        num_words = len(line.split())\n",
    "        if num_words > max_words:\n",
    "            max_words = num_words\n",
    "    return max_words"
   ]
  },
  {
   "cell_type": "markdown",
   "metadata": {},
   "source": [
    "# Load data"
   ]
  },
  {
   "cell_type": "code",
   "execution_count": 3,
   "metadata": {},
   "outputs": [],
   "source": [
    "# Load in the csv data\n",
    "reddit_train_df = pd.read_csv(\"../../data/reddit/labeled/score10_all_sub_labeled_train.csv\", index_col=0)\n",
    "reddit_test_df = pd.read_csv(\"../../data/reddit/labeled/score10_all_sub_labeled_dev.csv\", index_col=0)"
   ]
  },
  {
   "cell_type": "markdown",
   "metadata": {},
   "source": [
    "# Data setup"
   ]
  },
  {
   "cell_type": "code",
   "execution_count": 4,
   "metadata": {},
   "outputs": [
    {
     "name": "stdout",
     "output_type": "stream",
     "text": [
      "Max number of words per post: 78\n",
      "\n",
      "Getting x_train, y_train, x_test, and y_test...\n",
      "102991 train sequences\n",
      "9353 test sequences\n",
      "----------------------------\n"
     ]
    },
    {
     "data": {
      "text/plain": [
       "<matplotlib.legend.Legend at 0x11b34ceb8>"
      ]
     },
     "execution_count": 4,
     "metadata": {},
     "output_type": "execute_result"
    },
    {
     "data": {
      "image/png": "[encoded data removed]",
      "text/plain": [
       "<matplotlib.figure.Figure at 0x10a428128>"
      ]
     },
     "metadata": {},
     "output_type": "display_data"
    }
   ],
   "source": [
    "# Determine max post length\n",
    "max_words_train = get_max_words(reddit_train_df.title.values)\n",
    "max_words_test = get_max_words(reddit_test_df.title.values)\n",
    "max_words = max(max_words_train, max_words_test)\n",
    "print(\"Max number of words per post: {}\".format(max_words))\n",
    "\n",
    "# Label and title columns in datasets\n",
    "LABEL_1HR, LABEL_2HR, LABEL_6HR, LABEL_12HR, LABEL_24HR = \\\n",
    "    '1hr_change', '2hr_change', '6hr_change', '12hr_change', '24hr_change'\n",
    "TEXT_COL = 'title'\n",
    "\n",
    "# Split into x_train and y_train\n",
    "print('\\nGetting x_train, y_train, x_test, and y_test...')\n",
    "(x_train, y_train_1hr, y_train_2hr, y_train_6hr, y_train_12hr, y_train_24hr) = \\\n",
    "    reddit_train_df[TEXT_COL].values, reddit_train_df[LABEL_1HR], reddit_train_df[LABEL_2HR], \\\n",
    "    reddit_train_df[LABEL_6HR], reddit_train_df[LABEL_12HR], reddit_train_df[LABEL_24HR]\n",
    "\n",
    "m_train = x_train.shape[0]\n",
    "y_train_1hr = y_train_1hr.values.reshape((m_train, 1))\n",
    "y_train_2hr = y_train_2hr.values.reshape((m_train, 1))\n",
    "y_train_6hr = y_train_6hr.values.reshape((m_train, 1))\n",
    "y_train_12hr = y_train_12hr.values.reshape((m_train, 1))\n",
    "y_train_24hr = y_train_24hr.values.reshape((m_train, 1))\n",
    "    \n",
    "(x_test, y_test_1hr, y_test_2hr, y_test_6hr, y_test_12hr, y_test_24hr) = \\\n",
    "    reddit_test_df[TEXT_COL].values, reddit_test_df[LABEL_1HR], reddit_test_df[LABEL_2HR], \\\n",
    "    reddit_test_df[LABEL_6HR], reddit_test_df[LABEL_12HR], reddit_test_df[LABEL_24HR]\n",
    "\n",
    "m_test = x_test.shape[0]\n",
    "y_test_1hr = y_test_1hr.values.reshape((m_test, 1))\n",
    "y_test_2hr = y_test_2hr.values.reshape((m_test, 1))\n",
    "y_test_6hr = y_test_6hr.values.reshape((m_test, 1))\n",
    "y_test_12hr = y_test_12hr.values.reshape((m_test, 1))\n",
    "y_test_24hr = y_test_24hr.values.reshape((m_test, 1)) \n",
    "\n",
    "# Print info about train and test\n",
    "print(len(x_train), 'train sequences')\n",
    "print(len(x_test), 'test sequences')\n",
    "print(\"----------------------------\")\n",
    "\n",
    "# Plot distributions of labels\n",
    "sns.set_style(\"whitegrid\")\n",
    "sns.distplot(reddit_train_df[LABEL_1HR].values, label='Train')\n",
    "sns.distplot(reddit_test_df[LABEL_1HR].values, label='Test')\n",
    "plt.legend()"
   ]
  },
  {
   "cell_type": "markdown",
   "metadata": {},
   "source": [
    "# Model setup (part 1/4)"
   ]
  },
  {
   "cell_type": "code",
   "execution_count": 5,
   "metadata": {},
   "outputs": [
    {
     "name": "stdout",
     "output_type": "stream",
     "text": [
      "Pad sequences (samples x time)\n",
      "x_train shape: (102991, 78)\n",
      "x_test shape: (9353, 78)\n"
     ]
    }
   ],
   "source": [
    "# Set hyperparameters\n",
    "max_features = 200000 # Num words in our vocabulary \n",
    "maxlen = max_words  # cut texts after this number of words\n",
    "batch_size = 32  # Mini-batch size\n",
    "num_epochs = 5 \n",
    "\n",
    "# Train tokenizer to create a vocabulary of words\n",
    "tokenizer = Tokenizer(num_words=max_features)\n",
    "tokenizer.fit_on_texts(x_train)\n",
    "\n",
    "# Vectorize each headline\n",
    "train_sequences = tokenizer.texts_to_sequences(x_train)\n",
    "test_sequences = tokenizer.texts_to_sequences(x_test)\n",
    "\n",
    "# Update x_train and x_test to be 'sequences' of data\n",
    "print('Pad sequences (samples x time)')\n",
    "x_train = sequence.pad_sequences(train_sequences, maxlen=maxlen)\n",
    "x_test = sequence.pad_sequences(test_sequences, maxlen=maxlen)\n",
    "print('x_train shape:', x_train.shape)\n",
    "print('x_test shape:', x_test.shape)  "
   ]
  },
  {
   "cell_type": "markdown",
   "metadata": {},
   "source": [
    "# Model setup (part 2/4)"
   ]
  },
  {
   "cell_type": "code",
   "execution_count": 6,
   "metadata": {},
   "outputs": [],
   "source": [
    "# Choose embedding layer to use (pre-trained word2vec or custom)\n",
    "#EMBEDDING_TYPE = \"pretrain\"\n",
    "#EMBEDDING_TYPE = \"custom1\"\n",
    "EMBEDDING_TYPE = \"custom2\"\n",
    "\n",
    "# If using pre-trained word2vec\n",
    "if EMBEDDING_TYPE == \"pretrain\":\n",
    "    EMBEDDING_FILE = \"../../data/embeddings/GoogleNews-vectors-negative300.bin\"\n",
    "    EMBEDDING_DIM = 300 \n",
    "    word2vec = KeyedVectors.load_word2vec_format(EMBEDDING_FILE, binary=True)\n",
    "\n",
    "# If using custom word2vec (continuous bag)\n",
    "elif EMBEDDING_TYPE == \"custom1\":\n",
    "    EMBEDDING_FILE = \"../word2vec/crypto-word2vec-all-200.bin\"\n",
    "    EMBEDDING_DIM = 200\n",
    "    word2vec = KeyedVectors.load(EMBEDDING_FILE)\n",
    "\n",
    "# If using custom word2vec (skipgram)\n",
    "elif EMBEDDING_TYPE == \"custom2\":\n",
    "    EMBEDDING_FILE = \"../word2vec/crypto-word2vec-skipgram-all-200.bin\"\n",
    "    EMBEDDING_DIM = 200\n",
    "    word2vec = KeyedVectors.load(EMBEDDING_FILE)\n",
    "    \n",
    "word_index = tokenizer.word_index\n",
    "nb_words = min(max_features, len(word_index))+1\n",
    "\n",
    "embedding_matrix = np.zeros((nb_words, EMBEDDING_DIM))\n",
    "for word, i in word_index.items():\n",
    "    if word in word2vec.vocab:\n",
    "        embedding_matrix[i] = word2vec.word_vec(word)\n",
    "        \n",
    "embedding_layer = Embedding(nb_words,\n",
    "        EMBEDDING_DIM,\n",
    "        weights=[embedding_matrix],\n",
    "        input_length=maxlen,\n",
    "        trainable=False) "
   ]
  },
  {
   "cell_type": "markdown",
   "metadata": {},
   "source": [
    "# Model setup (part 3/4)"
   ]
  },
  {
   "cell_type": "code",
   "execution_count": 10,
   "metadata": {},
   "outputs": [
    {
     "name": "stdout",
     "output_type": "stream",
     "text": [
      "_________________________________________________________________\n",
      "Layer (type)                 Output Shape              Param #   \n",
      "=================================================================\n",
      "input_2 (InputLayer)         (None, 78)                0         \n",
      "_________________________________________________________________\n",
      "embedding_1 (Embedding)      (None, 78, 200)           7844000   \n",
      "_________________________________________________________________\n",
      "bidirectional_2 (Bidirection (None, 256)               336896    \n",
      "_________________________________________________________________\n",
      "dense_2 (Dense)              (None, 5)                 1285      \n",
      "=================================================================\n",
      "Total params: 8,182,181\n",
      "Trainable params: 338,181\n",
      "Non-trainable params: 7,844,000\n",
      "_________________________________________________________________\n"
     ]
    }
   ],
   "source": [
    "# Get the actual embeddings\n",
    "sequence_input = Input(shape=(maxlen,), dtype='int32')\n",
    "embeddings = embedding_layer(sequence_input)\n",
    "\n",
    "# Construct the model\n",
    "X = Bidirectional(LSTM(128, return_sequences=False))(embeddings)\n",
    "X = Dense(5)(X)\n",
    "\n",
    "# Select y labels\n",
    "y_train = np.concatenate((y_train_1hr, y_train_2hr, y_train_6hr, y_train_12hr, y_train_24hr), axis=1)\n",
    "y_test = np.concatenate((y_test_1hr, y_test_2hr, y_test_6hr, y_test_12hr, y_test_24hr), axis=1)\n",
    "\n",
    "# Define the model\n",
    "model = Model(inputs=sequence_input, outputs=X)\n",
    "\n",
    "# Compile the model\n",
    "model.summary()\n",
    "model.compile(loss='mean_squared_error', \n",
    "                    optimizer='adam', \n",
    "                    metrics=['accuracy'])"
   ]
  },
  {
   "cell_type": "markdown",
   "metadata": {},
   "source": [
    "# Model setup (part 4/4)"
   ]
  },
  {
   "cell_type": "code",
   "execution_count": 12,
   "metadata": {},
   "outputs": [],
   "source": [
    "# Choose path to save checkpoints\n",
    "#CHECKPOINT_PATH_SAVE = \"checkpoints/pretrained_word2vec/\"\n",
    "#CHECKPOINT_PATH_SAVE = \"checkpoints/custom1_word2vec/\"\n",
    "CHECKPOINT_PATH_SAVE = \"checkpoints/custom2_word2vec/\"\n",
    "\n",
    "# Setup model checkpoints\n",
    "checkpoint_5 = ModelCheckpoint(CHECKPOINT_PATH_SAVE + \"reddit-5epochs.hdf5\")\n",
    "checkpoint_10 = ModelCheckpoint(CHECKPOINT_PATH_SAVE + \"reddit-10epochs.hdf5\")\n",
    "checkpoint_15 = ModelCheckpoint(CHECKPOINT_PATH_SAVE + \"reddit-15epochs.hdf5\")\n",
    "checkpoint_20 = ModelCheckpoint(CHECKPOINT_PATH_SAVE + \"reddit-20epochs.hdf5\")\n",
    "checkpoint_25 = ModelCheckpoint(CHECKPOINT_PATH_SAVE + \"reddit-25epochs.hdf5\")\n",
    "checkpoint_30 = ModelCheckpoint(CHECKPOINT_PATH_SAVE + \"reddit-30epochs.hdf5\")\n",
    "checkpoint_35 = ModelCheckpoint(CHECKPOINT_PATH_SAVE + \"reddit-35epochs.hdf5\")\n",
    "checkpoint_40 = ModelCheckpoint(CHECKPOINT_PATH_SAVE + \"reddit-40epochs.hdf5\")\n",
    "checkpoint_45 = ModelCheckpoint(CHECKPOINT_PATH_SAVE + \"reddit-45epochs.hdf5\")\n",
    "checkpoint_50 = ModelCheckpoint(CHECKPOINT_PATH_SAVE + \"reddit-50epochs.hdf5\")\n",
    "all_checkpoints = [('5',checkpoint_5), ('10',checkpoint_10), ('15',checkpoint_15), ('20',checkpoint_20), \\\n",
    "                  ('25',checkpoint_25), ('30',checkpoint_30), ('35',checkpoint_35), ('40',checkpoint_40), \\\n",
    "                  ('45',checkpoint_45), ('50',checkpoint_50)]\n"
   ]
  },
  {
   "cell_type": "markdown",
   "metadata": {},
   "source": [
    "# Train model for 50 epochs"
   ]
  },
  {
   "cell_type": "code",
   "execution_count": null,
   "metadata": {},
   "outputs": [],
   "source": [
    "# Train 50 epochs\n",
    "for num_checkpoint, checkpoint in all_checkpoints:\n",
    "    model.fit(x_train, y_train, batch_size=batch_size, epochs=num_epochs, validation_data=(x_test, y_test),\n",
    "              callbacks=[checkpoint])\n",
    "    score, acc = model.evaluate(x_test, y_test, batch_size=batch_size)\n",
    "    print('Finished training %d/50 epochs' % num_checkpoint)\n",
    "    print('Test score: %.4f, Test accuracy: %.4f' % (score, acc))"
   ]
  },
  {
   "cell_type": "markdown",
   "metadata": {},
   "source": [
    "# Load model checkpoints"
   ]
  },
  {
   "cell_type": "code",
   "execution_count": 13,
   "metadata": {},
   "outputs": [
    {
     "name": "stdout",
     "output_type": "stream",
     "text": [
      "9353/9353 [==============================] - 6s 692us/step\n",
      "Test score:10.9577, Test accuracy: 0.4164\n",
      "9353/9353 [==============================] - 7s 701us/step\n",
      "Test score:12.4538, Test accuracy: 0.3021\n",
      "9353/9353 [==============================] - 6s 674us/step\n",
      "Test score:14.2706, Test accuracy: 0.3033\n",
      "9353/9353 [==============================] - 7s 718us/step\n",
      "Test score:15.9904, Test accuracy: 0.2997\n",
      "9353/9353 [==============================] - 6s 694us/step\n",
      "Test score:16.7204, Test accuracy: 0.3001\n",
      "9353/9353 [==============================] - 7s 746us/step\n",
      "Test score:17.3975, Test accuracy: 0.3024\n",
      "9353/9353 [==============================] - 7s 718us/step\n",
      "Test score:18.0588, Test accuracy: 0.3002\n",
      "9353/9353 [==============================] - 7s 705us/step\n",
      "Test score:18.3601, Test accuracy: 0.3071\n",
      "9353/9353 [==============================] - 7s 747us/step\n",
      "Test score:18.9745, Test accuracy: 0.2922\n",
      "9353/9353 [==============================] - 7s 707us/step\n",
      "Test score:19.0388, Test accuracy: 0.2940\n"
     ]
    }
   ],
   "source": [
    "# Choose which checkpoints to load\n",
    "#CHECKPOINT_PATH_LOAD = \"checkpoints/pretrained_word2vec/\"\n",
    "#CHECKPOINT_PATH_LOAD = \"checkpoints/custom1_word2vec/\"\n",
    "CHECKPOINT_PATH_LOAD = \"checkpoints/custom2_word2vec/\"\n",
    "\n",
    "# Checkpoint files\n",
    "checkpoint_files = [\"reddit-5epochs.hdf5\", \"reddit-10epochs.hdf5\", \"reddit-15epochs.hdf5\", \"reddit-20epochs.hdf5\", \\\n",
    "                   \"reddit-25epochs.hdf5\", \"reddit-30epochs.hdf5\", \"reddit-35epochs.hdf5\", \"reddit-40epochs.hdf5\", \\\n",
    "                   \"reddit-45epochs.hdf5\", \"reddit-50epochs.hdf5\"]\n",
    "\n",
    "# List to save predictions\n",
    "all_predictions = []\n",
    "\n",
    "# Load checkpoints and use to make predictions\n",
    "for checkpoint_file in checkpoint_files:\n",
    "\n",
    "    # Construct model\n",
    "    model_new = Model(inputs=sequence_input, outputs=X)\n",
    "    model_new.load_weights(CHECKPOINT_PATH_LOAD + checkpoint_file)\n",
    "    model_new.compile(loss='mean_squared_error', optimizer='adam', metrics=['accuracy'])\n",
    "    \n",
    "    # Make predictions, add to master list\n",
    "    predictions = model_new.predict(x_test)\n",
    "    all_predictions.append(predictions)\n",
    "    \n",
    "    # Print score and accuracy\n",
    "    score, acc = model_new.evaluate(x_test, y_test, batch_size=batch_size)\n",
    "    print('Test score: %.4f, Test accuracy: %.4f' % (score, acc))"
   ]
  },
  {
   "cell_type": "markdown",
   "metadata": {},
   "source": [
    "# Evaluate the results"
   ]
  },
  {
   "cell_type": "markdown",
   "metadata": {},
   "source": [
    "### First, organize predictions from each number of epochs trained and print summary"
   ]
  },
  {
   "cell_type": "code",
   "execution_count": 19,
   "metadata": {},
   "outputs": [
    {
     "name": "stdout",
     "output_type": "stream",
     "text": [
      "\n",
      "AFTER 5 EPOCHS TRAINING\n",
      "[+01 hr]\tMean: 0.0084\tMin: -0.4690\t25%: -0.0321\t75%: 0.0529\tMax: 0.4223\n",
      "[+02 hr]\tMean: 0.0336\tMin: -0.7148\t25%: -0.0201\t75%: 0.0944\tMax: 0.4444\n",
      "[+06 hr]\tMean: 0.0599\tMin: -2.1238\t25%: -0.0812\t75%: 0.2267\tMax: 1.5718\n",
      "[+12 hr]\tMean: 0.2345\tMin: -2.7856\t25%: 0.0227\t75%: 0.4720\tMax: 2.3488\n",
      "[+24 hr]\tMean: 0.6168\tMin: -2.7412\t25%: 0.2774\t75%: 0.9544\tMax: 3.6503\n",
      "\n",
      "AFTER 10 EPOCHS TRAINING\n",
      "[+01 hr]\tMean: 0.0496\tMin: -0.7721\t25%: -0.0558\t75%: 0.1489\tMax: 1.0781\n",
      "[+02 hr]\tMean: 0.0453\tMin: -1.5298\t25%: -0.1366\t75%: 0.2278\tMax: 1.9591\n",
      "[+06 hr]\tMean: 0.0415\tMin: -5.3742\t25%: -0.4493\t75%: 0.5298\tMax: 5.3796\n",
      "[+12 hr]\tMean: 0.1427\tMin: -8.0226\t25%: -0.6229\t75%: 0.9021\tMax: 9.2743\n",
      "[+24 hr]\tMean: 0.2938\tMin: -10.7361\t25%: -0.8735\t75%: 1.4381\tMax: 12.8430\n",
      "\n",
      "AFTER 15 EPOCHS TRAINING\n",
      "[+01 hr]\tMean: 0.0316\tMin: -1.1941\t25%: -0.1275\t75%: 0.1864\tMax: 1.8499\n",
      "[+02 hr]\tMean: 0.0210\tMin: -2.2883\t25%: -0.2595\t75%: 0.3021\tMax: 3.3781\n",
      "[+06 hr]\tMean: 0.1260\tMin: -6.3656\t25%: -0.6307\t75%: 0.8991\tMax: 9.6617\n",
      "[+12 hr]\tMean: 0.3211\tMin: -9.4255\t25%: -0.8862\t75%: 1.5333\tMax: 14.7663\n",
      "[+24 hr]\tMean: 0.5453\tMin: -14.0820\t25%: -1.3034\t75%: 2.3906\tMax: 21.0157\n",
      "\n",
      "AFTER 20 EPOCHS TRAINING\n",
      "[+01 hr]\tMean: 0.0202\tMin: -1.4018\t25%: -0.1743\t75%: 0.1994\tMax: 2.7103\n",
      "[+02 hr]\tMean: 0.0387\tMin: -2.7905\t25%: -0.3186\t75%: 0.3836\tMax: 5.0009\n",
      "[+06 hr]\tMean: 0.0774\tMin: -7.9531\t25%: -0.8873\t75%: 1.0237\tMax: 13.5577\n",
      "[+12 hr]\tMean: 0.2813\tMin: -11.7742\t25%: -1.2614\t75%: 1.7569\tMax: 20.5125\n",
      "[+24 hr]\tMean: 0.5000\tMin: -18.2660\t25%: -1.8364\t75%: 2.7723\tMax: 29.0184\n",
      "\n",
      "AFTER 25 EPOCHS TRAINING\n",
      "[+01 hr]\tMean: -0.0041\tMin: -2.4683\t25%: -0.2054\t75%: 0.1881\tMax: 2.2749\n",
      "[+02 hr]\tMean: 0.0041\tMin: -4.6648\t25%: -0.3894\t75%: 0.3827\tMax: 4.5408\n",
      "[+06 hr]\tMean: 0.0638\tMin: -13.1588\t25%: -1.0138\t75%: 1.1066\tMax: 12.3716\n",
      "[+12 hr]\tMean: 0.2821\tMin: -20.6992\t25%: -1.4002\t75%: 1.9300\tMax: 18.8588\n",
      "[+24 hr]\tMean: 0.4314\tMin: -31.5548\t25%: -2.1796\t75%: 2.9960\tMax: 27.1261\n",
      "\n",
      "AFTER 30 EPOCHS TRAINING\n",
      "[+01 hr]\tMean: 0.0028\tMin: -1.7104\t25%: -0.2150\t75%: 0.2138\tMax: 2.4945\n",
      "[+02 hr]\tMean: 0.0466\tMin: -3.4213\t25%: -0.3880\t75%: 0.4673\tMax: 4.8697\n",
      "[+06 hr]\tMean: 0.1290\tMin: -8.9881\t25%: -1.0204\t75%: 1.2371\tMax: 12.5884\n",
      "[+12 hr]\tMean: 0.3473\tMin: -14.1076\t25%: -1.4672\t75%: 2.1178\tMax: 19.1201\n",
      "[+24 hr]\tMean: 0.5680\tMin: -21.9595\t25%: -2.2886\t75%: 3.2870\tMax: 27.5962\n",
      "\n",
      "AFTER 35 EPOCHS TRAINING\n",
      "[+01 hr]\tMean: 0.0534\tMin: -1.6857\t25%: -0.1668\t75%: 0.2680\tMax: 2.0276\n",
      "[+02 hr]\tMean: 0.0365\tMin: -3.2601\t25%: -0.3890\t75%: 0.4552\tMax: 4.1546\n",
      "[+06 hr]\tMean: 0.0681\tMin: -9.4856\t25%: -1.1100\t75%: 1.2067\tMax: 11.5305\n",
      "[+12 hr]\tMean: 0.1921\tMin: -14.6244\t25%: -1.6832\t75%: 1.9684\tMax: 17.7912\n",
      "[+24 hr]\tMean: 0.4058\tMin: -22.8184\t25%: -2.4631\t75%: 3.1926\tMax: 25.2158\n",
      "\n",
      "AFTER 40 EPOCHS TRAINING\n",
      "[+01 hr]\tMean: 0.0430\tMin: -1.9227\t25%: -0.1905\t75%: 0.2713\tMax: 2.6163\n",
      "[+02 hr]\tMean: 0.0577\tMin: -3.8434\t25%: -0.4144\t75%: 0.5008\tMax: 5.2900\n",
      "[+06 hr]\tMean: 0.1696\tMin: -10.4099\t25%: -1.0557\t75%: 1.3475\tMax: 14.2542\n",
      "[+12 hr]\tMean: 0.4012\tMin: -15.4098\t25%: -1.5249\t75%: 2.2667\tMax: 21.6256\n",
      "[+24 hr]\tMean: 0.6942\tMin: -21.7545\t25%: -2.2512\t75%: 3.5690\tMax: 30.7742\n",
      "\n",
      "AFTER 45 EPOCHS TRAINING\n",
      "[+01 hr]\tMean: -0.0257\tMin: -2.5525\t25%: -0.2647\t75%: 0.2092\tMax: 2.9006\n",
      "[+02 hr]\tMean: -0.0193\tMin: -4.9439\t25%: -0.4827\t75%: 0.4383\tMax: 5.7486\n",
      "[+06 hr]\tMean: 0.0367\tMin: -13.3333\t25%: -1.2310\t75%: 1.2756\tMax: 15.2387\n",
      "[+12 hr]\tMean: 0.1970\tMin: -20.3523\t25%: -1.7759\t75%: 2.1483\tMax: 23.5486\n",
      "[+24 hr]\tMean: 0.3987\tMin: -30.1712\t25%: -2.6854\t75%: 3.4814\tMax: 34.5147\n",
      "\n",
      "AFTER 50 EPOCHS TRAINING\n",
      "[+01 hr]\tMean: -0.0129\tMin: -2.4414\t25%: -0.2478\t75%: 0.2165\tMax: 2.2627\n",
      "[+02 hr]\tMean: -0.0027\tMin: -4.8008\t25%: -0.4697\t75%: 0.4572\tMax: 4.5155\n",
      "[+06 hr]\tMean: 0.0426\tMin: -13.3917\t25%: -1.2083\t75%: 1.2711\tMax: 12.4751\n",
      "[+12 hr]\tMean: 0.1817\tMin: -20.1765\t25%: -1.8023\t75%: 2.1117\tMax: 19.2296\n",
      "[+24 hr]\tMean: 0.4282\tMin: -30.1611\t25%: -2.6755\t75%: 3.4446\tMax: 27.7831\n"
     ]
    }
   ],
   "source": [
    "###############################################################\n",
    "# 1/2: CHANGE if more epochs added\n",
    "###############################################################\n",
    "\n",
    "# To iterate through training epochs\n",
    "epochs = ['05 epochs', '10 epochs', '15 epochs', '20 epochs', \\\n",
    "          '25 epochs', '30 epochs', '35 epochs', '40 epochs', \\\n",
    "          '45 epochs', '50 epochs']\n",
    "\n",
    "# The number of training epochs chosen for final results\n",
    "final_chosen_epoch = ['35 epochs']\n",
    "\n",
    "# Object 1: To zip all dfs together later\n",
    "all_dfs = (reddit_test_df.values, \\\n",
    "           all_predictions[0], all_predictions[1], all_predictions[2], all_predictions[3], \\\n",
    "           all_predictions[4], all_predictions[5], all_predictions[6], all_predictions[7], \\\n",
    "           all_predictions[8], all_predictions[9])\n",
    "\n",
    "\n",
    "###############################################################\n",
    "# 2/2: DON'T CHANGE if more epochs added\n",
    "###############################################################\n",
    "\n",
    "# Loop through each set and print summary\n",
    "count = 0\n",
    "for prediction in all_predictions:\n",
    "    count += 5\n",
    "    \n",
    "    pred_1hr, summary_1hr = prediction[:,0], pd.Series(np.squeeze(prediction[:,0])).describe()\n",
    "    pred_2hr, summary_2hr = prediction[:,1], pd.Series(np.squeeze(prediction[:,1])).describe()\n",
    "    pred_6hr, summary_6hr = prediction[:,2], pd.Series(np.squeeze(prediction[:,2])).describe()\n",
    "    pred_12hr, summary_12hr = prediction[:,3], pd.Series(np.squeeze(prediction[:,3])).describe()\n",
    "    pred_24hr, summary_24hr = prediction[:,4], pd.Series(np.squeeze(prediction[:,4])).describe()\n",
    "\n",
    "    print('\\nAFTER %d EPOCHS TRAINING' % count)\n",
    "    print('[+01 hr]\\tMean: %.4f\\tMin: %.4f\\t25%%: %.4f\\t75%%: %.4f\\tMax: %.4f' % \\\n",
    "          (summary_1hr['mean'], summary_1hr['min'], summary_1hr['25%'], summary_1hr['75%'], summary_1hr['max']))\n",
    "    print('[+02 hr]\\tMean: %.4f\\tMin: %.4f\\t25%%: %.4f\\t75%%: %.4f\\tMax: %.4f' % \\\n",
    "          (summary_2hr['mean'], summary_2hr['min'], summary_2hr['25%'], summary_2hr['75%'], summary_2hr['max']))\n",
    "    print('[+06 hr]\\tMean: %.4f\\tMin: %.4f\\t25%%: %.4f\\t75%%: %.4f\\tMax: %.4f' % \\\n",
    "          (summary_6hr['mean'], summary_6hr['min'], summary_6hr['25%'], summary_6hr['75%'], summary_6hr['max']))\n",
    "    print('[+12 hr]\\tMean: %.4f\\tMin: %.4f\\t25%%: %.4f\\t75%%: %.4f\\tMax: %.4f' % \\\n",
    "          (summary_12hr['mean'], summary_12hr['min'], summary_12hr['25%'], summary_12hr['75%'], summary_12hr['max']))\n",
    "    print('[+24 hr]\\tMean: %.4f\\tMin: %.4f\\t25%%: %.4f\\t75%%: %.4f\\tMax: %.4f' % \\\n",
    "          (summary_24hr['mean'], summary_24hr['min'], summary_24hr['25%'], summary_24hr['75%'], summary_24hr['max']))"
   ]
  },
  {
   "cell_type": "markdown",
   "metadata": {},
   "source": [
    "### Then, check prediction performance:\n",
    "- How many of the largest (positive) ACTUAL price changes did we PREDICT correctly\n",
    "- How many of the largest (negative) ACTUAL price changes did we PREDICT correctly"
   ]
  },
  {
   "cell_type": "markdown",
   "metadata": {},
   "source": [
    "### Setup"
   ]
  },
  {
   "cell_type": "code",
   "execution_count": 22,
   "metadata": {},
   "outputs": [
    {
     "name": "stdout",
     "output_type": "stream",
     "text": [
      "[1hr] Top cutoff: 0.9864, Bottom cutoff: -0.7630\n",
      "[2hr] Top cutoff: 1.3951, Bottom cutoff: -1.1409\n",
      "[6hr] Top cutoff: 2.5950, Bottom cutoff: -1.6548\n",
      "[12hr] Top cutoff: 3.8299, Bottom cutoff: -2.4704\n",
      "[24hr] Top cutoff: 6.0746, Bottom cutoff: -2.8883\n"
     ]
    }
   ],
   "source": [
    "# Prediction times\n",
    "prediction_times = ['1hr', '2hr', '6hr', '12hr', '24hr']\n",
    "\n",
    "# Indices of columns in test df and prediction dfs\n",
    "actual_columns = {'date' : 0, 'title' : 4, '1hr' : 5, '2hr' : 6, '6hr' : 7, '12hr' : 8, '24hr' : 9}\n",
    "pred_columns = {'1hr' : 0, '2hr' : 1, '6hr' : 2, '12hr' : 3, '24hr' : 4}\n",
    "\n",
    "# Set cutoffs to only consider largest (positive) price changes\n",
    "pos_percent = 0.80 # Means will consider top 20%\n",
    "pos_1hr = pd.Series(np.squeeze(reddit_test_df['1hr_change'])).quantile(pos_percent)\n",
    "pos_2hr = pd.Series(np.squeeze(reddit_test_df['2hr_change'])).quantile(pos_percent)\n",
    "pos_6hr = pd.Series(np.squeeze(reddit_test_df['6hr_change'])).quantile(pos_percent)\n",
    "pos_12hr = pd.Series(np.squeeze(reddit_test_df['12hr_change'])).quantile(pos_percent)\n",
    "pos_24hr = pd.Series(np.squeeze(reddit_test_df['24hr_change'])).quantile(pos_percent)\n",
    "pos_cutoffs = {'1hr' : pos_1hr, '2hr' : pos_2hr, '6hr' : pos_6hr, '12hr' : pos_12hr, '24hr' : pos_24hr} \n",
    "\n",
    "# Set cutoffs to only consider largest (negative) price changes\n",
    "neg_percent = 0.20 # Means will consider bottom 20%\n",
    "neg_1hr = pd.Series(np.squeeze(reddit_test_df['1hr_change'])).quantile(neg_percent)\n",
    "neg_2hr = pd.Series(np.squeeze(reddit_test_df['2hr_change'])).quantile(neg_percent)\n",
    "neg_6hr = pd.Series(np.squeeze(reddit_test_df['6hr_change'])).quantile(neg_percent)\n",
    "neg_12hr = pd.Series(np.squeeze(reddit_test_df['12hr_change'])).quantile(neg_percent)\n",
    "neg_24hr = pd.Series(np.squeeze(reddit_test_df['24hr_change'])).quantile(neg_percent)\n",
    "neg_cutoffs = {'1hr' : neg_1hr, '2hr' : neg_2hr, '6hr' : neg_6hr, '12hr' : neg_12hr, '24hr' : neg_24hr} \n",
    "\n",
    "# Print\n",
    "for time in prediction_times:\n",
    "    print ('[%s] Top cutoff: %.4f, Bottom cutoff: %.4f' % (time, pos_cutoffs[time], neg_cutoffs[time]))\n",
    "\n",
    "# Initial state of prediction counts\n",
    "initial_pred_counts = {}\n",
    "for epoch in epochs:\n",
    "    initial_pred_counts[epoch] = 0\n",
    "    \n",
    "# To keep track of actual changes vs predicted changes (aggregated hourly)\n",
    "changes = {'1hr':{}, '2hr':{}, '6hr':{}, '12hr':{}, '24hr':{}}\n",
    "for time in prediction_times:\n",
    "    for epoch in epochs:\n",
    "        changes[time][epoch] = []"
   ]
  },
  {
   "cell_type": "markdown",
   "metadata": {},
   "source": [
    "### Run"
   ]
  },
  {
   "cell_type": "code",
   "execution_count": 23,
   "metadata": {},
   "outputs": [
    {
     "name": "stdout",
     "output_type": "stream",
     "text": [
      "\n",
      "***** PREDICTIONS +1hr IN FUTURE *****\n",
      "\n",
      "TOTAL hours in test set: 670\n",
      "[35 epochs train] Correctly predicted increases/decreases: 327 hours (48.81%)\n",
      "\n",
      "Hours in test set with LARGEST 20% of price INCREASES (>= 0.99%): 123\n",
      "[35 epochs train] Correctly predicted increases: 59 hours (47.97%)\n",
      "\n",
      "Hours in test set with LARGEST 20% of price DECREASES (<= -0.76%): 135\n",
      "[35 epochs train] Correctly predicted decreases: 69 hours (51.11%)\n",
      "\n",
      "***** PREDICTIONS +2hr IN FUTURE *****\n",
      "\n",
      "TOTAL hours in test set: 670\n",
      "[35 epochs train] Correctly predicted increases/decreases: 338 hours (50.45%)\n",
      "\n",
      "Hours in test set with LARGEST 20% of price INCREASES (>= 1.40%): 126\n",
      "[35 epochs train] Correctly predicted increases: 69 hours (54.76%)\n",
      "\n",
      "Hours in test set with LARGEST 20% of price DECREASES (<= -1.14%): 134\n",
      "[35 epochs train] Correctly predicted decreases: 63 hours (47.01%)\n",
      "\n",
      "***** PREDICTIONS +6hr IN FUTURE *****\n",
      "\n",
      "TOTAL hours in test set: 670\n",
      "[35 epochs train] Correctly predicted increases/decreases: 339 hours (50.60%)\n",
      "\n",
      "Hours in test set with LARGEST 20% of price INCREASES (>= 2.60%): 122\n",
      "[35 epochs train] Correctly predicted increases: 68 hours (55.74%)\n",
      "\n",
      "Hours in test set with LARGEST 20% of price DECREASES (<= -1.65%): 140\n",
      "[35 epochs train] Correctly predicted decreases: 70 hours (50.00%)\n",
      "\n",
      "***** PREDICTIONS +12hr IN FUTURE *****\n",
      "\n",
      "TOTAL hours in test set: 670\n",
      "[35 epochs train] Correctly predicted increases/decreases: 365 hours (54.48%)\n",
      "\n",
      "Hours in test set with LARGEST 20% of price INCREASES (>= 3.83%): 121\n",
      "[35 epochs train] Correctly predicted increases: 79 hours (65.29%)\n",
      "\n",
      "Hours in test set with LARGEST 20% of price DECREASES (<= -2.47%): 136\n",
      "[35 epochs train] Correctly predicted decreases: 63 hours (46.32%)\n",
      "\n",
      "***** PREDICTIONS +24hr IN FUTURE *****\n",
      "\n",
      "TOTAL hours in test set: 670\n",
      "[35 epochs train] Correctly predicted increases/decreases: 336 hours (50.15%)\n",
      "\n",
      "Hours in test set with LARGEST 20% of price INCREASES (>= 6.07%): 128\n",
      "[35 epochs train] Correctly predicted increases: 80 hours (62.50%)\n",
      "\n",
      "Hours in test set with LARGEST 20% of price DECREASES (<= -2.89%): 136\n",
      "[35 epochs train] Correctly predicted decreases: 50 hours (36.76%)\n"
     ]
    }
   ],
   "source": [
    "###############################################################\n",
    "# Loop through each prediction time\n",
    "###############################################################\n",
    "for time in prediction_times:\n",
    "       \n",
    "    # To keep track of (largest positive) counts\n",
    "    num_actual_above = 0\n",
    "    num_pred_above, num_pred_positive = initial_pred_counts.copy(), initial_pred_counts.copy()\n",
    "    per_pred_above, per_pred_positive = initial_pred_counts.copy(), initial_pred_counts.copy() \n",
    "    \n",
    "    # To keep track of (largest negative) counts\n",
    "    num_actual_below = 0\n",
    "    num_pred_below, num_pred_negative = initial_pred_counts.copy(), initial_pred_counts.copy()\n",
    "    per_pred_below, per_pred_negative = initial_pred_counts.copy(), initial_pred_counts.copy() \n",
    "    \n",
    "    # To keep track of aggregated hourly predictions\n",
    "    total_hours = 1\n",
    "    total_hours_pos, total_hours_neg = 0, 0\n",
    "    preds_tally = initial_pred_counts.copy()\n",
    "    correct_hours_all, per_correct_hours_all = initial_pred_counts.copy(), initial_pred_counts.copy()\n",
    "    correct_hours_pos, per_correct_hours_pos = initial_pred_counts.copy(), initial_pred_counts.copy()\n",
    "    correct_hours_neg, per_correct_hours_neg = initial_pred_counts.copy(), initial_pred_counts.copy()\n",
    "    current_hour = reddit_test_df.values[0][actual_columns['date']].split(' ')[1].split(':')[0]\n",
    "    \n",
    "    # To keep track of price changes (used to evaluate aggregated predictions)\n",
    "    prev_price_change = reddit_test_df.values[0][actual_columns[time]]\n",
    "    current_price_change = 0\n",
    "    \n",
    "    # To keep track of titles of posts predicted correctly above and below cutoff\n",
    "    titles_above, titles_below = {}, {}\n",
    "    for epoch in epochs:\n",
    "        titles_above[epoch] = []\n",
    "        titles_below[epoch] = []\n",
    "        \n",
    "    #########################################\n",
    "    # Loop through each row in actual test df and prediction dfs\n",
    "    #########################################\n",
    "    for all_items in zip(*all_dfs):\n",
    "    \n",
    "        # Separate \n",
    "        i, preds = 0, {}\n",
    "        actual = all_items[i]\n",
    "        for epoch in epochs:\n",
    "            i += 1\n",
    "            preds[epoch] = all_items[i]\n",
    "           \n",
    "        # Get current price change\n",
    "        current_price_change = actual[actual_columns[time]]\n",
    "        \n",
    "        #########################################\n",
    "        # Looking at individual predictions\n",
    "        #########################################\n",
    "        \n",
    "        # Check if actual value >= top cutoff\n",
    "        if current_price_change >= pos_cutoffs[time]:\n",
    "            # Increment actual count\n",
    "            num_actual_above += 1\n",
    "            # Loop through each set of predictions\n",
    "            for epoch in epochs:\n",
    "                # If prediction >= cutoff   \n",
    "                if preds[epoch][pred_columns[time]] >= pos_cutoffs[time]: \n",
    "                    # Count\n",
    "                    num_pred_above[epoch] += 1\n",
    "                    # Title\n",
    "                    titles_above[epoch].append \\\n",
    "                        ((actual[actual_columns['title']], \n",
    "                         actual[actual_columns[time]], \n",
    "                         preds[epoch][pred_columns[time]]))\n",
    "                # If prediction at least positive   \n",
    "                if preds[epoch][pred_columns[time]] >= 0: \n",
    "                    num_pred_positive[epoch] += 1\n",
    "    \n",
    "        # Check if actual value <= bottom cutoff\n",
    "        if current_price_change <= neg_cutoffs[time]:\n",
    "            # Increment actual count\n",
    "            num_actual_below += 1\n",
    "            # Loop through each set of predictions\n",
    "            for epoch in epochs:\n",
    "                # If prediction >= cutoff   \n",
    "                if preds[epoch][pred_columns[time]] <= neg_cutoffs[time]: \n",
    "                    # Count\n",
    "                    num_pred_below[epoch] += 1\n",
    "                    # Title\n",
    "                    titles_below[epoch].append \\\n",
    "                        ((actual[actual_columns['title']], \n",
    "                         actual[actual_columns[time]], \n",
    "                         preds[epoch][pred_columns[time]])) \n",
    "                # If prediction at least negative   \n",
    "                if preds[epoch][pred_columns[time]] <= 0: \n",
    "                    num_pred_negative[epoch] += 1\n",
    "    \n",
    "        #########################################\n",
    "        # Looking at aggregated predictions\n",
    "        #########################################\n",
    "    \n",
    "        # Isolate hour of current row\n",
    "        new_hour = actual[actual_columns['date']].split(' ')[1].split(':')[0]\n",
    "     \n",
    "        # If moved to new hour\n",
    "        if not new_hour == current_hour:\n",
    "            \n",
    "            # Check prediction tallys vs actual price changes\n",
    "            for epoch in epochs:\n",
    "                # All hours\n",
    "                if np.sign(preds_tally[epoch]) == np.sign(actual[actual_columns[time]]):\n",
    "                    correct_hours_all[epoch] += 1\n",
    "                # Hours with largest increases\n",
    "                if prev_price_change >= pos_cutoffs[time]:\n",
    "                    if np.sign(preds_tally[epoch]) == np.sign(actual[actual_columns[time]]):\n",
    "                        correct_hours_pos[epoch] += 1\n",
    "                # Hours with largest decreases\n",
    "                if prev_price_change <= neg_cutoffs[time]:\n",
    "                    if np.sign(preds_tally[epoch]) == np.sign(actual[actual_columns[time]]):\n",
    "                        correct_hours_neg[epoch] += 1\n",
    "                \n",
    "            # Count hours with largest increases and decreases\n",
    "            if prev_price_change >= pos_cutoffs[time]:\n",
    "                total_hours_pos += 1\n",
    "            if prev_price_change <= neg_cutoffs[time]:\n",
    "                total_hours_neg += 1\n",
    "                \n",
    "            # Fill structure to make charts later\n",
    "            for epoch in epochs:\n",
    "                changes[time][epoch].append((actual[actual_columns[time]], preds_tally[epoch]))\n",
    "                \n",
    "            # Update total hour count, reset tally, change current_hour\n",
    "            total_hours += 1\n",
    "            preds_tally = initial_pred_counts.copy()\n",
    "            current_hour = new_hour\n",
    "    \n",
    "        # Update prediction tallys\n",
    "        for epoch in epochs:\n",
    "            preds_tally[epoch] += preds[epoch][pred_columns[time]]\n",
    "            \n",
    "        # Update saved price change\n",
    "        prev_price_change = current_price_change\n",
    "    \n",
    "    #########################################          \n",
    "    # Calculate percentage of correct predictions\n",
    "    #########################################          \n",
    "    for epoch in epochs:\n",
    "        \n",
    "        # Individual predictions\n",
    "        per_pred_above[epoch] = (num_pred_above[epoch] / num_actual_above) * 100\n",
    "        per_pred_positive[epoch] = (num_pred_positive[epoch] / num_actual_above) * 100   \n",
    "        per_pred_below[epoch] = (num_pred_below[epoch] / num_actual_below) * 100\n",
    "        per_pred_negative[epoch] = (num_pred_negative[epoch] / num_actual_below) * 100   \n",
    "        \n",
    "        # Aggregated predictions\n",
    "        per_correct_hours_all[epoch] = (correct_hours_all[epoch] / total_hours) * 100\n",
    "        per_correct_hours_pos[epoch] = (correct_hours_pos[epoch] / total_hours_pos) * 100\n",
    "        per_correct_hours_neg[epoch] = (correct_hours_neg[epoch] / total_hours_neg) * 100\n",
    "\n",
    "    #########################################          \n",
    "    # Print results\n",
    "    #########################################   \n",
    "    \n",
    "    # Choose if want to see results for all training epochs, or only final choice\n",
    "    #to_see = epochs\n",
    "    to_see = final_chosen_epoch\n",
    "    \n",
    "    print ('\\n***** PREDICTIONS +%s IN FUTURE *****' % time)\n",
    "    \n",
    "    print ('\\nTOTAL hours in test set: %d' % (total_hours))           \n",
    "    for epoch in to_see:\n",
    "        print ('[%s train] Correctly predicted increases/decreases: %d hours (%.2f%%)' % \\\n",
    "            (epoch, correct_hours_all[epoch], per_correct_hours_all[epoch]))\n",
    "    \n",
    "    print ('\\nHours in test set with LARGEST %d%% of price INCREASES (>= %.2f%%): %d' % \\\n",
    "        (100-int(pos_percent*100), pos_cutoffs[time], total_hours_pos))           \n",
    "    for epoch in to_see:\n",
    "        print ('[%s train] Correctly predicted increases: %d hours (%.2f%%)' % \\\n",
    "            (epoch, correct_hours_pos[epoch], per_correct_hours_pos[epoch]))\n",
    "  \n",
    "    print ('\\nHours in test set with LARGEST %d%% of price DECREASES (<= %.2f%%): %d' % \\\n",
    "        (100-int(pos_percent*100), neg_cutoffs[time], total_hours_neg))           \n",
    "    for epoch in to_see:\n",
    "        print ('[%s train] Correctly predicted decreases: %d hours (%.2f%%)' % \\\n",
    "            (epoch, correct_hours_neg[epoch], per_correct_hours_neg[epoch]))\n",
    "\n",
    "    '''\n",
    "    print ('\\nNum ACTUAL in top %d%% (change >= %.2f%%): %d' % \\\n",
    "        (100-int(pos_percent*100), pos_cutoffs[time], num_actual_above))           \n",
    "    for epoch in epochs:\n",
    "        print ('[%s train] Above cutoff: %d (%.2f%%), Positive: %d (%.2f%%)' % \\\n",
    "            (epoch, num_pred_above[epoch], per_pred_above[epoch], num_pred_positive[epoch], per_pred_positive[epoch]))\n",
    "        \n",
    "    print ('\\nNum ACTUAL in bottom %d%% (change <= %.2f%%): %d' % \\\n",
    "        (int(neg_percent*100), neg_cutoffs[time], num_actual_below))           \n",
    "    for epoch in epochs:\n",
    "        print ('[%s train] Below cutoff: %d (%.2f%%), Negative: %d (%.2f%%)' % \\\n",
    "            (epoch, num_pred_below[epoch], per_pred_below[epoch], num_pred_negative[epoch], per_pred_negative[epoch]))\n",
    "    \n",
    "    print ('\\nTotal hours in test set: %d' % (total_hours))           \n",
    "    for epoch in epochs:\n",
    "        print ('[%s train] Correct aggregated predictions: %d hours (%.2f%%)' % \\\n",
    "            (epoch, correct_hours[epoch], per_correct_hours[epoch]))\n",
    "                      \n",
    "    print ('\\nPost titles correctly predicted ABOVE cutoff:')     \n",
    "    for epoch in epochs:\n",
    "        print ('[%s train]' % epoch)\n",
    "        for title in titles_above[epoch]:\n",
    "            print ('\\t%s\\n\\tActual: %.2f, Predicted: %.2f' % (title[0], title[1], title[2]))\n",
    "\n",
    "    print ('\\nPost titles correctly predicted BELOW cutoff:')     \n",
    "    for epoch in epochs:\n",
    "        print ('[%s train]' % epoch)\n",
    "        for title in titles_below[epoch]:\n",
    "            print ('\\t%s\\n\\tActual: %.2f, Predicted: %.2f' % (title[0], title[1], title[2]))      \n",
    "   '''\n",
    "                        "
   ]
  },
  {
   "cell_type": "markdown",
   "metadata": {},
   "source": [
    "### Plot the aggregated hourly predictions"
   ]
  },
  {
   "cell_type": "code",
   "execution_count": 25,
   "metadata": {
    "scrolled": false
   },
   "outputs": [
    {
     "name": "stdout",
     "output_type": "stream",
     "text": [
      "\n",
      "***** PREDICTIONS +1hr IN FUTURE *****\n",
      "[35 epochs train]\n"
     ]
    },
    {
     "data": {
      "image/png": "[encoded data removed]",
      "text/plain": [
       "<matplotlib.figure.Figure at 0x12f5e4ba8>"
      ]
     },
     "metadata": {},
     "output_type": "display_data"
    },
    {
     "name": "stdout",
     "output_type": "stream",
     "text": [
      "\n",
      "***** PREDICTIONS +2hr IN FUTURE *****\n",
      "[35 epochs train]\n"
     ]
    },
    {
     "data": {
      "image/png": "[encoded data removed]",
      "text/plain": [
       "<matplotlib.figure.Figure at 0x12f5beba8>"
      ]
     },
     "metadata": {},
     "output_type": "display_data"
    },
    {
     "name": "stdout",
     "output_type": "stream",
     "text": [
      "\n",
      "***** PREDICTIONS +6hr IN FUTURE *****\n",
      "[35 epochs train]\n"
     ]
    },
    {
     "data": {
      "image/png": "[encoded data removed]",
      "text/plain": [
       "<matplotlib.figure.Figure at 0x12f5ce400>"
      ]
     },
     "metadata": {},
     "output_type": "display_data"
    },
    {
     "name": "stdout",
     "output_type": "stream",
     "text": [
      "\n",
      "***** PREDICTIONS +12hr IN FUTURE *****\n",
      "[35 epochs train]\n"
     ]
    },
    {
     "data": {
      "image/png": "[encoded data removed]",
      "text/plain": [
       "<matplotlib.figure.Figure at 0x12f85fd68>"
      ]
     },
     "metadata": {},
     "output_type": "display_data"
    },
    {
     "name": "stdout",
     "output_type": "stream",
     "text": [
      "\n",
      "***** PREDICTIONS +24hr IN FUTURE *****\n",
      "[35 epochs train]\n"
     ]
    },
    {
     "data": {
      "image/png": "[encoded data removed]",
      "text/plain": [
       "<matplotlib.figure.Figure at 0x12d53fbe0>"
      ]
     },
     "metadata": {},
     "output_type": "display_data"
    }
   ],
   "source": [
    "def plot_predicted_changes(changes, title):\n",
    "        colors = ['xkcd:crimson', 'xkcd:darkgreen']\n",
    "        pred_colors = []\n",
    "        percent_changes = []\n",
    "        for change in changes:\n",
    "            price_change, pred = change\n",
    "            if price_change > 0:\n",
    "                if pred > 0:  # correct\n",
    "                    percent_changes.append(price_change)\n",
    "                    pred_colors.append(colors[1])\n",
    "                else:  # incorrect\n",
    "                    percent_changes.append(price_change)\n",
    "                    pred_colors.append(colors[0])\n",
    "            else:\n",
    "                if pred < 0:  # correct\n",
    "                    percent_changes.append(price_change)\n",
    "                    pred_colors.append(colors[1])\n",
    "                else:\n",
    "                    percent_changes.append(price_change)\n",
    "                    pred_colors.append(colors[0])\n",
    "\n",
    "        plt.style.use('bmh')\n",
    "        plt.figure(figsize=(14, 6))\n",
    "        plt.title('{}'.format(title))\n",
    "        plt.bar(range(len(percent_changes)), percent_changes, color=pred_colors)\n",
    "        plt.ylabel('Percent Change', size=18)\n",
    "        plt.xlabel('Hours', size=18)\n",
    "        plt.show()\n",
    "\n",
    "# Loop through each possible chart\n",
    "for time in prediction_times:\n",
    "    print ('\\n***** PREDICTIONS +%s IN FUTURE *****' % time)\n",
    "    \n",
    "    # Choose if want to see results for all training epochs, or only final choice\n",
    "    #to_see = epochs\n",
    "    to_see = final_chosen_epoch\n",
    "    \n",
    "    # Choose starting and stoping hours\n",
    "    start_hour = 0\n",
    "    stop_hour = 100 # needs to be less than 670\n",
    "    \n",
    "    for epoch in to_see:\n",
    "        print ('[%s train]' % epoch)\n",
    "        change = changes[time][epoch][start_hour:stop_hour] \n",
    "        title = 'Bitcoin (using Reddit, %s train) - Predicting +%s in future' % (epoch, time)\n",
    "        plot_predicted_changes(change, title)\n",
    "        "
   ]
  },
  {
   "cell_type": "code",
   "execution_count": null,
   "metadata": {},
   "outputs": [],
   "source": []
  }
 ],
 "metadata": {
  "kernelspec": {
   "display_name": "Python 3",
   "language": "python",
   "name": "python3"
  },
  "language_info": {
   "codemirror_mode": {
    "name": "ipython",
    "version": 3
   },
   "file_extension": ".py",
   "mimetype": "text/x-python",
   "name": "python",
   "nbconvert_exporter": "python",
   "pygments_lexer": "ipython3",
   "version": "3.6.4"
  }
 },
 "nbformat": 4,
 "nbformat_minor": 2
}
